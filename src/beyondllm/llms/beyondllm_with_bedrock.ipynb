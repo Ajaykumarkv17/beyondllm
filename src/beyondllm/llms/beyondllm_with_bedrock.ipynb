{
 "cells": [
  {
   "cell_type": "code",
   "execution_count": 4,
   "metadata": {},
   "outputs": [
    {
     "name": "stdout",
     "output_type": "stream",
     "text": [
      " <<SYS>>\n",
      "\n",
      "**Title:** \"The Art of Strong Business Decisions: A Leader's Guide\"\n",
      "\n",
      "**Introduction:**\n",
      "\n",
      "As a leader, making strong business decisions is crucial to the success of your organization. It requires a combination of strategic thinking, analytical skills, and effective communication. In this blog, we will explore the key principles and best practices for making informed and effective business decisions as a leader.\n",
      "\n",
      "**1. Define Your Goals and Objectives:**\n",
      "\n",
      "Before making any decision, it's essential to define your goals and objectives. What are your company's mission, vision, and values? What are your short-term and long-term goals? What are the key performance indicators (KPIs) that will measure your success? By having a clear understanding of your goals and objectives, you will be able to make decisions that align with your company's overall strategy.\n",
      "\n",
      "**2. Gather and Analyze Data:**\n",
      "\n",
      "Data is the foundation of informed decision-making. Gather relevant data and analyze it to identify trends, patterns, and correlations. This will help you to make data-driven decisions rather than relying on intuition or personal biases. Use tools such as spreadsheets, charts, and graphs to visualize the data and make it easier to understand.\n",
      "\n",
      "**3. Consider Multiple Perspectives:**\n",
      "\n",
      "No one person has all the answers. Consider multiple perspectives and opinions to get a well-rounded view of the situation. This will help you to identify potential risks and opportunities that you may not have considered otherwise. Encourage open communication and collaboration among your team members to foster a culture of shared knowledge and expertise.\n",
      "\n",
      "**4. Weigh the Pros and Cons:**\n",
      "\n",
      "When evaluating a decision, weigh the pros and cons carefully. Consider the potential benefits and drawbacks of each option, and think about the potential impact on your company and its stakeholders. Use a decision-making framework such as a pros and cons list, a SWOT analysis, or a decision tree to help you evaluate the options.\n",
      "\n",
      "**5. Trust Your Instincts:**\n",
      "\n",
      "While data and analysis are important, they are not the only factors to consider. Trust your instincts and use your experience and judgment to make decisions. As a leader, you have a unique perspective and understanding of your company and its industry. Use this insight to inform your decisions and make adjustments as needed.\n",
      "\n",
      "**6. Be Flexible and Adaptable:**\n",
      "\n",
      "Business decisions are not set in stone. Be prepared to adjust your decisions as new information becomes available or as circumstances change. Stay flexible and adaptable, and be willing to pivot when necessary.\n",
      "\n",
      "**Conclusion:**\n",
      "\n",
      "\n"
     ]
    }
   ],
   "source": [
    "\n",
    "from  bedrock import BedrockModel\n",
    "\n",
    "\n",
    "llm = BedrockModel(\n",
    "    model_id=\"meta.llama3-8b-instruct-v1:0\"\n",
    ")\n",
    "\n",
    "prompt=\"\"\"<s>[INST] <<SYS>>\n",
    "You are a helpful, respectful and honest assistant. Always answer as helpfully as possible, while being safe.  Your answers should not include any harmful, unethical, racist, sexist, toxic, dangerous, or illegal content. Please ensure that your responses are socially unbiased and positive in nature.\n",
    "If a question does not make any sense, or is not factually coherent, explain why instead of answering something not correct. If you don't know the answer to a question, please don't share false information.\n",
    "<</SYS>>\n",
    "\n",
    "Write me a blog about making strong business decisions as a leader. [/INST]\"\"\"\n",
    "resp=llm.predict(prompt=prompt)\n",
    "\n",
    "print(resp)\n",
    "\n"
   ]
  }
 ],
 "metadata": {
  "kernelspec": {
   "display_name": "myenv",
   "language": "python",
   "name": "python3"
  },
  "language_info": {
   "codemirror_mode": {
    "name": "ipython",
    "version": 3
   },
   "file_extension": ".py",
   "mimetype": "text/x-python",
   "name": "python",
   "nbconvert_exporter": "python",
   "pygments_lexer": "ipython3",
   "version": "3.12.1"
  }
 },
 "nbformat": 4,
 "nbformat_minor": 2
}
